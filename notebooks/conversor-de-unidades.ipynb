{
 "cells": [
  {
   "cell_type": "markdown",
   "metadata": {},
   "source": [
    "# Conversor de unidades"
   ]
  },
  {
   "cell_type": "code",
   "execution_count": null,
   "metadata": {
    "collapsed": false
   },
   "outputs": [],
   "source": [
    "import numpy"
   ]
  },
  {
   "cell_type": "code",
   "execution_count": null,
   "metadata": {
    "collapsed": true
   },
   "outputs": [],
   "source": [
    "FACTORES = {\n",
    "    'pie-metro': 0.3048, 'pulgada-metro': 0.0254, 'yarda-metro': 0.9144,\n",
    "    'milla-metro': 1609.35, 'libra-gramo': 453.592,'onza-gramo': 28.35\n",
    "}"
   ]
  },
  {
   "cell_type": "code",
   "execution_count": null,
   "metadata": {
    "collapsed": true
   },
   "outputs": [],
   "source": [
    "def ft_a_metro(val):\n",
    "    \"\"\"Convierte pies a metros\"\"\"\n",
    "    fc = FACTORES['pie-metro']\n",
    "    return val * fc\n",
    "\n",
    "def inch_a_metro(val):\n",
    "    \"\"\"Convierte pulgadas a metros\"\"\"\n",
    "    fc = FACTORES['pulgada-metro']\n",
    "    return val * fc\n",
    "\n",
    "def oz_a_gr(val):\n",
    "    \"\"\"Convierte onzas a gramos\"\"\"\n",
    "    fc = FACTORES['onza-gramo']\n",
    "    return val * fc"
   ]
  },
  {
   "cell_type": "code",
   "execution_count": null,
   "metadata": {
    "collapsed": true
   },
   "outputs": [],
   "source": [
    "def metro_a_yd(val):\n",
    "    \"\"\"Convierte metros a yardas\"\"\"\n",
    "    fc = FACTORES['yarda-metro']\n",
    "    return val / fc\n",
    "\n",
    "def metro_a_mi(val):\n",
    "    \"\"\"Convierte metros a millas\"\"\"\n",
    "    fc = FACTORES['milla-metro']\n",
    "    return val / fc\n",
    "\n",
    "def gr_a_lb(val):\n",
    "    \"\"\"Convierte gramos a libras\"\"\"\n",
    "    fc = FACTORES['libra-gramo']\n",
    "    return val / fc"
   ]
  },
  {
   "cell_type": "code",
   "execution_count": null,
   "metadata": {
    "collapsed": false
   },
   "outputs": [],
   "source": [
    "x = 5 \n",
    "y = ft_a_metro(x)\n",
    "print('{:.5g} pie(s) equivale(n) a {:.5g} metros'.format(x, y))"
   ]
  },
  {
   "cell_type": "code",
   "execution_count": null,
   "metadata": {
    "collapsed": false
   },
   "outputs": [],
   "source": [
    "x = 16 \n",
    "y = oz_a_gr(x)\n",
    "print('{:.5g} onza(s) equivale(n) a {:.5g} gramos'.format(x, y))"
   ]
  },
  {
   "cell_type": "code",
   "execution_count": null,
   "metadata": {
    "collapsed": false
   },
   "outputs": [],
   "source": [
    "x = 250  \n",
    "y = gr_a_lb(x)\n",
    "print('{:.5g} gramo(s) equivale(n) a {:.5g} libras'.format(x, y))"
   ]
  },
  {
   "cell_type": "code",
   "execution_count": null,
   "metadata": {
    "collapsed": false
   },
   "outputs": [],
   "source": [
    "x = 1  \n",
    "y = metro_a_mi(x)\n",
    "print('{:.5g} metro(s) equivale(n) a {:.5g} millas'.format(x, y))"
   ]
  },
  {
   "cell_type": "code",
   "execution_count": null,
   "metadata": {
    "collapsed": true
   },
   "outputs": [],
   "source": []
  }
 ],
 "metadata": {
  "kernelspec": {
   "display_name": "Python 2.7 (Class MCMC)",
   "language": "python",
   "name": "classmcmc2.7"
  },
  "language_info": {
   "codemirror_mode": {
    "name": "ipython",
    "version": 2
   },
   "file_extension": ".py",
   "mimetype": "text/x-python",
   "name": "python",
   "nbconvert_exporter": "python",
   "pygments_lexer": "ipython2",
   "version": "2.7.14"
  }
 },
 "nbformat": 4,
 "nbformat_minor": 2
}
