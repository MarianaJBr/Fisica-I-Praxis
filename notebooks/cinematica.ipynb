{
 "cells": [
  {
   "cell_type": "markdown",
   "metadata": {},
   "source": [
    "# Cinemática"
   ]
  },
  {
   "cell_type": "code",
   "execution_count": null,
   "metadata": {},
   "outputs": [],
   "source": [
    "%pylab inline"
   ]
  },
  {
   "cell_type": "markdown",
   "metadata": {},
   "source": [
    "## Fórmulas"
   ]
  },
  {
   "cell_type": "code",
   "execution_count": null,
   "metadata": {},
   "outputs": [],
   "source": [
    "def calc_distancia(v_i, v_f, a):\n",
    "    \"\"\"Calcula la distancia dadas la velocidad final, inicial y la aceleración\"\"\"\n",
    "    return (v_f ** 2 - v_i ** 2) / (2 * a)"
   ]
  },
  {
   "cell_type": "code",
   "execution_count": null,
   "metadata": {},
   "outputs": [],
   "source": [
    "def vel_promedio(d, t):\n",
    "    \"\"\"Calcula la velocidad promedio al recorrer una distancia d en un tiempo t.\"\"\"\n",
    "    return d / t"
   ]
  },
  {
   "cell_type": "code",
   "execution_count": null,
   "metadata": {},
   "outputs": [],
   "source": [
    "def calc_tiempo_caida(h, g):\n",
    "    \"\"\"Calcula el tiempo de caída desde una altura h con una aceleración g.\"\"\"\n",
    "    return sqrt(2 * h  / g)"
   ]
  },
  {
   "cell_type": "markdown",
   "metadata": {},
   "source": [
    "### Pregunta 1"
   ]
  },
  {
   "cell_type": "code",
   "execution_count": null,
   "metadata": {},
   "outputs": [],
   "source": [
    "v_i = 0   # metros / segundo\n",
    "v_f = 70  # metros / segundo\n",
    "a = 3.0   # metros / segundo^2\n",
    "d = calc_distancia(v_i, v_f, a)\n",
    "print('La distancia recorrida es {:.5g} m'.format(d))"
   ]
  },
  {
   "cell_type": "markdown",
   "metadata": {},
   "source": [
    "### Pregunta 2"
   ]
  },
  {
   "cell_type": "code",
   "execution_count": null,
   "metadata": {},
   "outputs": [],
   "source": [
    "d = 9026 * 1e3     # Metros\n",
    "t = 10.5 * 60 * 60  # Segundos\n",
    "vm = vel_promedio(d, t)\n",
    "print('La velocidad promedio de vuelo es {:.5g} m/s'.format(vm))"
   ]
  },
  {
   "cell_type": "markdown",
   "metadata": {},
   "source": [
    "### Pregunta 3"
   ]
  },
  {
   "cell_type": "code",
   "execution_count": null,
   "metadata": {},
   "outputs": [],
   "source": [
    "h = 12800.0    # m\n",
    "g = 9.81       # m/s^2\n",
    "t = calc_tiempo_caida(h, g)\n",
    "print('El tiempo de caída es {:.5g} s'.format(t))"
   ]
  },
  {
   "cell_type": "code",
   "execution_count": null,
   "metadata": {},
   "outputs": [],
   "source": []
  }
 ],
 "metadata": {
  "kernelspec": {
   "display_name": "Python 3",
   "language": "python",
   "name": "python3"
  },
  "language_info": {
   "codemirror_mode": {
    "name": "ipython",
    "version": 3
   },
   "file_extension": ".py",
   "mimetype": "text/x-python",
   "name": "python",
   "nbconvert_exporter": "python",
   "pygments_lexer": "ipython3",
   "version": "3.6.5"
  }
 },
 "nbformat": 4,
 "nbformat_minor": 2
}
