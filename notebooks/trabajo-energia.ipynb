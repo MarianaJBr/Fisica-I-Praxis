{
 "cells": [
  {
   "cell_type": "markdown",
   "metadata": {},
   "source": [
    "# Trabajo y Energía"
   ]
  },
  {
   "cell_type": "code",
   "execution_count": null,
   "metadata": {},
   "outputs": [],
   "source": [
    "% pylab inline"
   ]
  },
  {
   "cell_type": "code",
   "execution_count": null,
   "metadata": {},
   "outputs": [],
   "source": [
    "m, g = 2.0, 9.8 # Masa en kg y valor de la gravedad en m/s2\n",
    "\n",
    "def energia_cinetica(vf, v0=0):\n",
    "    return 0.5 * m * (vf * vf - v0 * v0)\n",
    "\n",
    "def energia_potencial(hf, h0=0):\n",
    "    return m * g * (hf - h0)\n",
    "\n",
    "def velocidad_final(hf, h0=0, v0=0):\n",
    "    return sqrt(v0 * v0 + 2 * g * (h0 - hf))"
   ]
  },
  {
   "cell_type": "markdown",
   "metadata": {},
   "source": [
    "### A $\\rightarrow$ E"
   ]
  },
  {
   "cell_type": "code",
   "execution_count": null,
   "metadata": {},
   "outputs": [],
   "source": [
    "hA, vA = 10.0, 0.  # Altura y velocidad en punto A\n",
    "hE = 0 # Altura en el punto E\n",
    "epA = energia_potencial(hf=hE, h0=hA)\n",
    "vB = velocidad_final(hf=hE, h0=hA, v0=vA)\n",
    "print('La velocidad final en el punto E será: {:.5g} m/s'.format(vB))\n",
    "print('Cambio en la energía potencial de la bola de boliche: {:.5g} Joules'.format(epA))"
   ]
  },
  {
   "cell_type": "markdown",
   "metadata": {},
   "source": [
    "### A $\\rightarrow$ B $\\rightarrow$ C $\\rightarrow$ D"
   ]
  },
  {
   "cell_type": "code",
   "execution_count": null,
   "metadata": {},
   "outputs": [],
   "source": [
    "hA, vA = 10.0, 0.  # Altura y velocidad en punto A\n",
    "hB = 5.0 # Altura en el punto B\n",
    "epB = energia_potencial(hf=hB, h0=hA)\n",
    "vB = velocidad_final(hf=hB, h0=hA, v0=vA)\n",
    "print('La velocidad final en el punto B será: {:.5g} m/s'.format(vB))\n",
    "print('Cambio en la energía potencial de la bola de boliche: {:.5g} Joules'.format(epB))"
   ]
  },
  {
   "cell_type": "code",
   "execution_count": null,
   "metadata": {},
   "outputs": [],
   "source": [
    "hC = hB   # Altura en el punto C\n",
    "epC = energia_potencial(hf=hC, h0=hB)\n",
    "vC = velocidad_final(hf=hC, h0=hB, v0=vB)\n",
    "print('Cambio en la energía potencial de la bola de boliche: {:.5g} Joules'.format(epC))\n",
    "print('La velocidad final en el punto C será: {:.5g} m/s'.format(vC))"
   ]
  },
  {
   "cell_type": "code",
   "execution_count": null,
   "metadata": {},
   "outputs": [],
   "source": [
    "hD = 0   # Altura en punto D\n",
    "epD = energia_potencial(hf=hD, h0=hC)\n",
    "vD = velocidad_final(hf=hD, h0=hC, v0=vC)\n",
    "print('Cambio en la energía potencial de la bola de boliche: {:.5g} Joules'.format(epD))\n",
    "print('La velocidad final en el punto D será: {:.5g} m/s'.format(vD))"
   ]
  },
  {
   "cell_type": "markdown",
   "metadata": {},
   "source": [
    "### Cambio total en la energía cinética"
   ]
  },
  {
   "cell_type": "code",
   "execution_count": null,
   "metadata": {},
   "outputs": [],
   "source": [
    "Fg = m * g # Fuerza gravitacional\n",
    "wDA = Fg * (hD - hA) # Trabajo\n",
    "ep_DA = m * g * (hD - hA) \n",
    "ec_DA = 0.5 * m * (vD * vD - vA * vA)\n",
    "print('Trabajo gravitacional desde A a D: {:.5g}'.format(wDA))\n",
    "print('Cambio en energía potencial desde A a D: {:.5g}'.format(ep_DA))\n",
    "print('Cambio en energía cinética desde A a D: {:.5g}'.format(ec_DA))"
   ]
  },
  {
   "cell_type": "code",
   "execution_count": null,
   "metadata": {},
   "outputs": [],
   "source": []
  }
 ],
 "metadata": {
  "kernelspec": {
   "display_name": "Python 3",
   "language": "python",
   "name": "python3"
  },
  "language_info": {
   "codemirror_mode": {
    "name": "ipython",
    "version": 3
   },
   "file_extension": ".py",
   "mimetype": "text/x-python",
   "name": "python",
   "nbconvert_exporter": "python",
   "pygments_lexer": "ipython3",
   "version": "3.6.5"
  }
 },
 "nbformat": 4,
 "nbformat_minor": 2
}
