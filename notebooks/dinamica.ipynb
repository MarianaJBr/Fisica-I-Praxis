{
 "cells": [
  {
   "cell_type": "markdown",
   "metadata": {},
   "source": [
    "# Dinámica"
   ]
  },
  {
   "cell_type": "code",
   "execution_count": 2,
   "metadata": {},
   "outputs": [
    {
     "name": "stdout",
     "output_type": "stream",
     "text": [
      "Populating the interactive namespace from numpy and matplotlib\n"
     ]
    }
   ],
   "source": [
    "% pylab inline"
   ]
  },
  {
   "cell_type": "markdown",
   "metadata": {},
   "source": [
    "En esta libreta usaremos $m$ para denotar la masa expresada en $kg$, $a$ para la aceleración expresada en $m/s^2$ y $g$ para el valor de la aceleración de la gravedad sobre la Tierra, $g=9.81m/s^2$."
   ]
  },
  {
   "cell_type": "code",
   "execution_count": 3,
   "metadata": {},
   "outputs": [],
   "source": [
    "g = 9.81"
   ]
  },
  {
   "cell_type": "code",
   "execution_count": 4,
   "metadata": {},
   "outputs": [],
   "source": [
    "def peso_en_elevador_subiendo(m, a):\n",
    "    return m * (g + a)"
   ]
  },
  {
   "cell_type": "code",
   "execution_count": 5,
   "metadata": {},
   "outputs": [],
   "source": [
    "def peso_en_elevador_bajando(m, a):\n",
    "    return m * (g - a)"
   ]
  },
  {
   "cell_type": "markdown",
   "metadata": {},
   "source": [
    "### Velocidad constante"
   ]
  },
  {
   "cell_type": "code",
   "execution_count": 6,
   "metadata": {},
   "outputs": [
    {
     "name": "stdout",
     "output_type": "stream",
     "text": [
      "Peso de Sir Isaac Newton en reposo: 687 N\n",
      "Peso en el elevador bajando a v=cte: 687 N\n"
     ]
    }
   ],
   "source": [
    "a = 0     # Velocidad constante es aceleración cero\n",
    "m = 70.0  \n",
    "wn = m * g\n",
    "we = peso_en_elevador_subiendo(m, a)\n",
    "print('Peso de Sir Isaac Newton en reposo: {:.3g} N'.format(wn))\n",
    "print('Peso en el elevador bajando a v=cte: {:.3g} N'.format(we))"
   ]
  },
  {
   "cell_type": "markdown",
   "metadata": {},
   "source": [
    "### Aceleración"
   ]
  },
  {
   "cell_type": "code",
   "execution_count": 7,
   "metadata": {},
   "outputs": [
    {
     "name": "stdout",
     "output_type": "stream",
     "text": [
      "Peso de Sir Isaac Newton en reposo: 687 N\n",
      "Peso en elevador subiendo con a=2 m/s^2: 827 N\n"
     ]
    }
   ],
   "source": [
    "a = 2.0   # Aceleración de subida\n",
    "m = 70.0\n",
    "we = peso_en_elevador_subiendo(m, a)\n",
    "print('Peso de Sir Isaac Newton en reposo: {:.3g} N'.format(wn))\n",
    "print('Peso en elevador subiendo con a={:.3g} m/s^2: {:.3g} N'.format(a, we))"
   ]
  },
  {
   "cell_type": "markdown",
   "metadata": {},
   "source": [
    "### Caída libre"
   ]
  },
  {
   "cell_type": "code",
   "execution_count": 8,
   "metadata": {},
   "outputs": [
    {
     "name": "stdout",
     "output_type": "stream",
     "text": [
      "Peso de Sir Isaac Newton en reposo: 687 N\n",
      "Peso en elevador cayendo con a=9.81 m/s^2: 0 N\n"
     ]
    }
   ],
   "source": [
    "a = 9.81  # Aceleración en caída libre es g\n",
    "m = 70.0  \n",
    "we = peso_en_elevador_bajando(m, a)\n",
    "print('Peso de Sir Isaac Newton en reposo: {:.3g} N'.format(wn))\n",
    "print('Peso en elevador cayendo con a={:.3g} m/s^2: {:.3g} N'.format(a, we))"
   ]
  },
  {
   "cell_type": "code",
   "execution_count": null,
   "metadata": {},
   "outputs": [],
   "source": []
  }
 ],
 "metadata": {
  "kernelspec": {
   "display_name": "Python 3",
   "language": "python",
   "name": "python3"
  },
  "language_info": {
   "codemirror_mode": {
    "name": "ipython",
    "version": 3
   },
   "file_extension": ".py",
   "mimetype": "text/x-python",
   "name": "python",
   "nbconvert_exporter": "python",
   "pygments_lexer": "ipython3",
   "version": "3.6.5"
  }
 },
 "nbformat": 4,
 "nbformat_minor": 2
}
